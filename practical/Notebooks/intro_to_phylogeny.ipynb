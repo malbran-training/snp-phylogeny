{
 "cells": [
  {
   "cell_type": "markdown",
   "metadata": {},
   "source": [
    "# Introduction to Phylogeny\n",
    "\n",
    "Before we describe how to construct a phylogenetic tree, we will introduce some important concepts related to phylogenies."
   ]
  },
  {
   "cell_type": "markdown",
   "metadata": {},
   "source": [
    "## What is a phylogentic tree?\n",
    "\n",
    "A phylogeny, also known as a phylogenetic tree, depicts estimated evolutionary relationships between __taxa__ - these can be species, strains or even genes. It consists of _nodes_ and _branches_. \n",
    "\n",
    "![A phylogenetic tree](img/basic-tree.png)\n",
    "\n",
    "### Nodes\n",
    "\n",
    "There are two types of _nodes_ in a phylogenetic tree; external nodes, also called ‘tips’ or ‘leaves’ of the tree (i.e. taxa), and internal nodes which denote their hypothetical ancestors. \n",
    "\n",
    "### Branches\n",
    "\n",
    "The _branches_ in a tree are shown as lines connecting the nodes. They show the path of transmission of genetic information from one generation to the next. Branch lengths indicate genetic change i.e. the longer the branch, the more genetic change (or divergence) has occurred.\n",
    "\n",
    "### Root\n",
    "\n",
    "A phylogenetic tree can be unrooted or rooted as shown below. \n",
    "\n",
    "![A phylogenetic tree](img/unrooted_vs_rooted.png)\n",
    "\n",
    "The _root_ of a phylogenetic tree is the most recent common ancestor of all of the taxa in the tree. It is therefore the oldest part of the tree and tells us the direction of evolution, with the flow of genetic information moving from the root, towards the tips with each successive generation. Deciding upon an appropriate root position is critical for phylogenetic interpretation because the root tells us the direction of evolution and so affects statements that we make about patterns of relatedness.\n",
    "\n",
    "There are two main approaches that can be used to root a tree, midpoint rooting and outgroup rooting. We will describe these approaches in more detail later in the tutorial.\n",
    "\n",
    "### Topology\n",
    "\n",
    "The _topology_ is the branching structure of the tree and the same topology can be drawn in lots of different ways. It is of particular biological significance because it indicates patterns of relatedness among taxa, meaning that trees with the same topology and root have the same biological interpretation. "
   ]
  },
  {
   "cell_type": "markdown",
   "metadata": {},
   "source": [
    "## Microbial phylogenetic trees\n",
    "\n",
    "In the context of infectious diseases epidemiology, phylogenetic trees are commonly used to define evolutionary relationships between strains of the same bacterial species. This is possible because bacteria reproduce clonally. During clonal reproduction, bacterial progenitor cells replicate their DNA at high fidelity. Despite this, random errors in DNA replication may still occur, resulting in a clonal progeny that will inherit these genetic replication ‘errors’ (i.e. mutations) in their DNA and may not be strictly identical to their progenitor cells. Bacterial strains that have recently originated from the same progenitor cell are thus expected to share identical genomes or have diverged at most by only a few genetic differences (mutations). The number and pattern of shared mutations between bacterial strains can be used to reconstruct their genealogical and evolutionary relationships.\n",
    "\n",
    "On a phylogenetic tree, isolated bacterial strains are depicted on the _leaves_ of the tree, whereas the internal nodes of the tree denote their hypothetical ancestors. Groups of bacterial strains (taxa) that share the same common ancestor form a _monophyletic_ group (also known as _clade_). A group of strains that descends from a common ancestor, but does not include all descendants, is called _paraphyletic_."
   ]
  },
  {
   "cell_type": "markdown",
   "metadata": {},
   "source": [
    "## How are phylogenetic trees reconstructed?\n",
    "\n",
    "Today almost all phylogenetic trees are inferred from molecular sequence data, most often from DNA sequences. This is because DNA is an inherited material; it can easily, reliably and inexpensively be extracted and sequenced; and DNA sequences are highly specific to bacterial species and strains. \n",
    "\n",
    "The goal is to generate a multiple sequence alignment of the DNA sequences of the bacterial species or strains and use this to re-construct the phylogenetic tree. Polymorphic sites (that is, nucleotide positions that are variable across multiple strains) in multiple alignments are used to infer evolutionary relationships, whereas monomorphic sites (nucleotide positions with the same DNA base) are generally ignored. The figure below shows an example of a simple multiple alignment of eight sites from four strains, which include monomorphic (squared) and polymorphic sites. Genetic changes in the phylogenetic tree are showed as coloured vertical rectangles on the branch where they originated. The identification of genetic changes (alleles) that are unique and common to multiple taxa (strains) are used to group them into monophyletic groups (clades) in a hierarchical manner with the goal of constructing the most plausible genealogical relationships between strains and clades.\n",
    "\n",
    "![Overview of phylogeny construction](img/phylogeny.png)"
   ]
  },
  {
   "cell_type": "markdown",
   "metadata": {},
   "source": [
    "There are many computational methods for reconstructing a tree from sequence data, e.g. Parsimony, Maximum Likelihood. Most methods require a model of evolution (substitution model) to provide information on how the sequences evolved. We won't expand on this here as it is beyond the scope of this tutorial."
   ]
  },
  {
   "cell_type": "markdown",
   "metadata": {},
   "source": [
    "## Data selection for phylogenies\n",
    "\n",
    "The type of sequence data that is used to construct a phylogenetic tree can vary. A tree can be constructed using sequence data from:\n",
    "\n",
    "* a single gene\n",
    "* Multi-locus sequence typing (MLST) data: a set of housekeeping genes for a species\n",
    "* Core genome MLST (cgMLST) data: an expanded MLST scheme using all genes shared by all strains within a species\n",
    "* Whole genome MLST (wgMLST) data: an expanded cgMLST scheme to include a selection of accessory genes\n",
    "* entire genome reconstructed from the whole genome sequence data\n",
    "\n",
    "The sequences to include and the type of data that you choose when constructing your phylogenetic tree will depend on your objective."
   ]
  },
  {
   "cell_type": "markdown",
   "metadata": {},
   "source": [
    "## Exercises\n",
    "\n",
    "Look at the following tree and answer the questions that follow:\n",
    "\n",
    "![Overview of phylogeny construction](img/test-tree.png)\n",
    "\n",
    "1. How many nodes are in the tree?\n",
    "2. What internal node corresponds to the most recent common ancestor of samples 8 and 10\n",
    "3. Which term best describes a group that share the same common ancestor?\n",
    "a. Polyphyletic\n",
    "b. Monophyletic\n",
    "c. Paraphyletic"
   ]
  },
  {
   "cell_type": "markdown",
   "metadata": {},
   "source": [
    "Now let's construct our first phylogeny: [Phylogeny from gene sequences](gene.ipynb)"
   ]
  }
 ],
 "metadata": {
  "kernelspec": {
   "display_name": "Bash",
   "language": "bash",
   "name": "bash"
  },
  "language_info": {
   "codemirror_mode": "shell",
   "file_extension": ".sh",
   "mimetype": "text/x-sh",
   "name": "bash"
  }
 },
 "nbformat": 4,
 "nbformat_minor": 2
}
