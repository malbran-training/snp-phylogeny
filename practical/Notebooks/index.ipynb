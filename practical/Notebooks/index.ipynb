{
 "cells": [
  {
   "cell_type": "markdown",
   "metadata": {},
   "source": [
    "# Phylogeny and Mapping\n",
    "\n",
    "## Introduction\n",
    "\n",
    "Phylogenetics is essentially about similarity, and looking at patterns of similarity between taxa to infer their relationships. It has important applications in many fields of genome biology. For example, when annotating a gene in a new genome it is useful for identifying previously-annotated genes in other genomes that share a common ancestry. It is also becoming increasingly common to use phylogeny to trace the evolution and spread of bacterial diseases, and even as an epidemiological tool to help identify disease outbreaks in a clinical setting. Further analysis of genome sequences to examine recombination, molecular adaptation and the evolution of gene function, all benefit from phylogeny.\n",
    "\n",
    "## Learning outcomes\n",
    "On completion of the tutorial, you can expect to be able to:\n",
    "\n",
    "* Identify different approaches to constructing phylogeny from whole genome sequence data\n",
    "* Map sequence data to a reference genome and identify variants\n",
    "* Use SNP data to construct a phylogenetic tree\n",
    "* Identify and remove recombination with Gubbins\n",
    "* Visualise phylogenies in the context of the sample metadata\n",
    "\n",
    "## Tutorial sections\n",
    "This tutorial comprises the following sections:   \n",
    " 1. [Introduction to phylogenetics](intro_to_phylogeny.ipynb)  \n",
    " 2. [Phylogeny from gene sequences](gene.ipynb)   \n",
    " 3. [Phylogeny from whole genome sequence data](snp_phylogeny.ipynb)   \n",
    " 4. [Phylogeny and metadata](metadata.ipynb)  \n",
    "  \n",
    "## Authors and License\n",
    "This tutorial was written by [Jacqui Keane](https://github.com/jacquikeane).\n",
    "\n",
    "Some of the material has been adapted from the Wellcome Connecting Science Courses [AMR-ASIA23](https://github.com/WCSCourses/AMR-Asia-23), [GenEpiLAC2023](https://github.com/WCSCourses/GenEpiLAC2023) and  [WWPG21](https://github.com/WCSCourses/WWPG_2021).\n",
    "\n",
    "The content is licensed under a [Creative Commons Attribution 4.0 International License (CC-By 4.0)](https://creativecommons.org/licenses/by/4.0/).\n",
    "\n",
    "## Running the commands in this tutorial\n",
    "You can follow this tutorial by typing all the commands you see in a terminal window on your computer. Remember, the terminal window is similar to the \"Command Prompt\" window on MS Windows systems, which allows the user to type DOS commands to manage files.\n",
    "\n",
    "To get started, open a terminal window and type the command below followed by the `Enter` key:"
   ]
  },
  {
   "cell_type": "code",
   "execution_count": null,
   "metadata": {},
   "outputs": [],
   "source": [
    "cd ~/course_data/snp-phylogeny/data"
   ]
  },
  {
   "cell_type": "markdown",
   "metadata": {},
   "source": [
    "## Prerequisites\n",
    "This tutorial assumes that you have the following software and their dependencies installed on your computer. The software used in this tutorial may be updated from time to time so, we have also given you the version which was used when writing this tutorial.\n",
    "\n",
    "\n",
    "| Package name | Link for download/installation instructions                          | Version |\n",
    "| :----------: | :------------------------------------------------------------------: |:------: |\n",
    "| seaview      | https://doua.prabi.fr/software/seaview                               | 5.0.5   |\n",
    "| fastqc       | https://www.bioinformatics.babraham.ac.uk/projects/fastqc            | 0.12.1  |\n",
    "| fastp        | https://github.com/OpenGene/fastp                                    | 0.23.4  |\n",
    "| bwa          | https://github.com/lh3/bwa                                           | 0.7.17  |\n",
    "| samtools     | https://github.com/samtools/samtools                                 | 1.17    |\n",
    "| bcftools     | https://github.com/samtools/bcftools                                 | 1.17    |\n",
    "| snp-sites    | https://github.com/sanger-pathogens/snp-sites                        | 2.5.1   |\n",
    "| gubbins      | https://github.com/nickjcroucher/gubbins                             | 3.3.0   |\n",
    "| iqtree       | http://www.iqtree.org/                                               | 2.2.3   |\n",
    "| FigTree      | http://tree.bio.ed.ac.uk/software/figtree/                           | 1.4.4   |\n",
    "| Microreact   | https://microreact.org                                               | 240     |"
   ]
  },
  {
   "cell_type": "markdown",
   "metadata": {},
   "source": [
    "The easiest way to install the required software is using `conda`, a software package manager. These software have already been installed on the computer for you. To activate them type:"
   ]
  },
  {
   "cell_type": "code",
   "execution_count": null,
   "metadata": {},
   "outputs": [],
   "source": [
    "conda activate snp-phylogeny"
   ]
  },
  {
   "cell_type": "markdown",
   "metadata": {},
   "source": [
    "After the software is activated type the following commands:"
   ]
  },
  {
   "cell_type": "code",
   "execution_count": null,
   "metadata": {},
   "outputs": [],
   "source": [
    "seaview &"
   ]
  },
  {
   "cell_type": "code",
   "execution_count": null,
   "metadata": {},
   "outputs": [],
   "source": [
    "fastqc -h"
   ]
  },
  {
   "cell_type": "code",
   "execution_count": null,
   "metadata": {},
   "outputs": [],
   "source": [
    "fastp -h"
   ]
  },
  {
   "cell_type": "code",
   "execution_count": null,
   "metadata": {},
   "outputs": [],
   "source": [
    "bwa"
   ]
  },
  {
   "cell_type": "code",
   "execution_count": null,
   "metadata": {},
   "outputs": [],
   "source": [
    "snp-sites -h"
   ]
  },
  {
   "cell_type": "code",
   "execution_count": null,
   "metadata": {},
   "outputs": [],
   "source": [
    "run_gubbins.py -h"
   ]
  },
  {
   "cell_type": "code",
   "execution_count": null,
   "metadata": {},
   "outputs": [],
   "source": [
    "iqtree -h"
   ]
  },
  {
   "cell_type": "code",
   "execution_count": null,
   "metadata": {},
   "outputs": [],
   "source": [
    "figtree &"
   ]
  },
  {
   "cell_type": "markdown",
   "metadata": {},
   "source": [
    "This should return the help message for these tools or launch the GUI software in the background.\n",
    "\n",
    "To get started with the tutorial, go to the first section: [Introduction to phylogeny](intro_to_phylogeny.ipynb)"
   ]
  }
 ],
 "metadata": {
  "kernelspec": {
   "display_name": "Bash",
   "language": "bash",
   "name": "bash"
  },
  "language_info": {
   "codemirror_mode": "shell",
   "file_extension": ".sh",
   "mimetype": "text/x-sh",
   "name": "bash"
  }
 },
 "nbformat": 4,
 "nbformat_minor": 2
}
