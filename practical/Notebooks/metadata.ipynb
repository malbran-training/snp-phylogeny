{
 "cells": [
  {
   "cell_type": "markdown",
   "metadata": {},
   "source": [
    "# Phylogeny and Metadata\n",
    "\n",
    "Often it is useful to visualise metadata about your samples in the context of your phylogenetic tree. For example, location information can provide insight into the processes that drive their epidemiology. This can be used to infer whether single introductions of a pathogen have occurred followed by local evolution or whether it transmits frequently across borders. It can also indicate regions affected by antimicrobial resistance (AMR).\n",
    "\n",
    "In this section, you will use `Microreact` to visualise the phylogeny you created in the previous section with some basic metadata. `Microreact` is software developed by the Centre for Genomic Pathogen Surveillance (CGPS) that allows you to upload, visualise and explore any combination of clustering (trees), geographic (map) and temporal (timeline) data. Other metadata variables are displayed in a table. You can specify colours and/or shapes to display on the map, tree and/or timeline. A permanent URL is produced for you to share your Microreact, or a .microreact file can be downloaded for sharing with collaborators.\n",
    "\n",
    "There are several alternatives including FigTree, Phandango and iToL but for the purposes of this tutorial we will demostrate the use of Microreact for metadata visualisation.\n"
   ]
  },
  {
   "cell_type": "markdown",
   "metadata": {},
   "source": [
    "## The dataset\n",
    "In this section we will make use of a maximum likelihood phylogenetic tree of the _S. typhi_ isolates from the previous section and a metadata file with information on location, time of isolation and genotype for the samples."
   ]
  },
  {
   "cell_type": "markdown",
   "metadata": {},
   "source": [
    "## Create a Microreact project\n",
    "\n",
    "Start by opening up a new window in Firefox and typing https://Microreact.org in the address bar. Click on “Upload” as shown below and create a new project.\n",
    "\n",
    "![Microreact front page](img/microreact-front-page.png)\n",
    "\n",
    "Open a file browser and navigate to the metadata directory (`/home/manager/course_data/snp-phylogeny/data/metadata`). Drag and drop the files “metadata.csv” and “tree.tree” from the file browser onto your Internet browser.\n",
    "\n",
    "![Uploading files to Microreact](img/microreact-upload.png)\n",
    "\n",
    "Once the tree and metadata files are loaded you will be directed to a new window where files will be automatically detected as Data (CSV or TSV) file (metadata.csv) and Tree (Newick) file (tree.nwk). In this new window click on ‘Continue’. In the next window and make sure column ‘ID’ is selected as the ‘ID column’ and then click on ‘Continue’.\n",
    "\n",
    "![Selecting sample identifier](img/microreact-id.png)\n",
    "\n",
    "Once these forms are completed your data will be utilized to create a Microreact project. You should now have a view similar to the ones shown below. You should see a tree view and a timeline and metadata view.\n",
    "\n",
    "![Microreact timeline view](img/microreact-timeline.png)\n",
    "\n",
    "![Microreact metadata view](img/microreact-metadata.png)"
   ]
  },
  {
   "cell_type": "markdown",
   "metadata": {},
   "source": [
    "## Exploring the metadata\n",
    "\n",
    "Clicking on ‘Show Controls’ button in the top right hand corner of the the tree window allows you to view different kinds of trees and change text/node size. Try changing layout of the tree.\n",
    "\n",
    "![Uploading files to Microreact](img/microreact-options.png)\n",
    "\n",
    "There are lots more things you can do with `Microreact` but unfortunately we don't have time to cover them in this tutotial.\n",
    "\n",
    "__Congratulations__, you have reached the end of the tutoial!"
   ]
  }
 ],
 "metadata": {
  "kernelspec": {
   "display_name": "Bash",
   "language": "bash",
   "name": "bash"
  },
  "language_info": {
   "codemirror_mode": "shell",
   "file_extension": ".sh",
   "mimetype": "text/x-sh",
   "name": "bash"
  }
 },
 "nbformat": 4,
 "nbformat_minor": 2
}
