{
 "cells": [
  {
   "cell_type": "markdown",
   "metadata": {},
   "source": [
    "# Phylogeny and Metadata\n",
    "\n",
    "Often it is useful to visualise metadata about your samples in the context of your phylogenetic tree. For example, location information can provide insight into the processes that drive their epidemiology. This can be used to infer whether single introductions of a pathogen have occurred followed by local evolution or whether it transmits frequently across borders. It can also indicate regions affected by antimicrobial resistance (AMR).\n",
    "\n",
    "In this section, you will use `Microreact` to visualise the phylogeny you created in the previous section and metadata provided. `Microreact` is... Microreact is software developed by the Centre for Genomic Pathogen Surveillance (CGPS) that allows you to upload, visualise and explore any combination of clustering (trees), geographic (map) and temporal (timeline) data. Other metadata variables are displayed in a table. You can specify colours and/or shapes to display on the map, tree and/or timeline. A permanent URL is produced for you to share your Microreact, or a .microreact file can be downloaded for sharing with collaborators.\n",
    "Microreact (https://microreact.org/) is a web-based application for the provision of interactive data visualisations. It enables the rapid generation and linkage of trees, maps, networks, charts and timelines, enabling epidemiologists and key decision makers to react faster and with greater accuracy.\n",
    "\n",
    "Mention alternatives to Microreact are Phandango and iToL.\n"
   ]
  },
  {
   "cell_type": "markdown",
   "metadata": {},
   "source": [
    "## The dataset\n",
    "In this section we will make use of a maximum likelihood phylogenetic tree of the 193 ST22 isolate and a metadata file with information on the country of origin, time of isolation, antibiotic resistance phenotypes and the presence of antibiotic resistance genetic determinants (Holden2013_metadata.csv)."
   ]
  },
  {
   "cell_type": "markdown",
   "metadata": {},
   "source": [
    "## Create a Microreact project\n",
    "\n",
    "Start by opening up a new window in Firefox and typing https://Microreact.org in the address bar. Click on “Upload” as shown below and create a new project.\n",
    "\n",
    "![Microreact front page](img/microreact-front-page.png)\n",
    "\n",
    "Drag and drop files “Holden2013_metadata.csv” and “Holden2013_tree.nwk” from your file browser onto your Internet browser.\n",
    "\n",
    "![Uploading files to Microreact](img/microreact-upload.png)\n",
    "\n",
    "Once the tree and metadata files are loaded you will be directed to a new window where files will be automatically detected as Data (CSV or TSV) file (Holden2013_metadata.csv) and Tree (Newick) file (Holden2013_tree.nwk). In this new window click on ‘Continue’. In the next window (Figure 10.3), make sure column ‘id’ is selected as the ‘ID column’ and then click on ‘Continue’.\n",
    "\n",
    "![Uploading files to Microreact](img/microreact-view.png)\n",
    "\n",
    "Once these forms are completed your data will be utilized to create a Microreact project. You should now have a view similar to the one in Figure 10.4. You should see a map view, tree view and metadata view. You can use click-drag-zoom to navigate both the tree and the map.\n",
    "\n",
    "![Uploading files to Microreact](img/microreact-view.png)"
   ]
  },
  {
   "cell_type": "markdown",
   "metadata": {},
   "source": [
    "## Exploring the metadata\n",
    "\n",
    "Clicking on ‘Show Controls’ (arrow 1 in Figure 10.5) button in the tree window allows you to view different kinds of trees and change text/node size. You can change the layout of the tree as pointed by arrow 2. Keep the default Rectangular layout of the tree. Click on the button ‘Hide Controls’ (arrow 1) to hide controls.\n",
    "\n",
    "![Uploading files to Microreact](img/microreact-view.png)\n",
    "\n",
    "__Congratulations__, you have reached the end of the tutoial!"
   ]
  }
 ],
 "metadata": {
  "kernelspec": {
   "display_name": "Bash",
   "language": "bash",
   "name": "bash"
  },
  "language_info": {
   "codemirror_mode": "shell",
   "file_extension": ".sh",
   "mimetype": "text/x-sh",
   "name": "bash"
  }
 },
 "nbformat": 4,
 "nbformat_minor": 2
}
