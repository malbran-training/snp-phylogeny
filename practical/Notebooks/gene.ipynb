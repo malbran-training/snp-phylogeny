{
 "cells": [
  {
   "cell_type": "markdown",
   "metadata": {},
   "source": [
    "# Phylogeny from gene sequences\n",
    "\n",
    "For our first phylogeny we will make a tree using the sequences of the *ompA* gene from 16 strains of *C. trachomatis*. First, let's check that you're in the right place. Type the command below in the terminal window followed by the Enter key:"
   ]
  },
  {
   "cell_type": "code",
   "execution_count": null,
   "metadata": {},
   "outputs": [],
   "source": [
    "pwd"
   ]
  },
  {
   "cell_type": "markdown",
   "metadata": {},
   "source": [
    "It should display something like:\n",
    "\n",
    "`/home/manager/course_data/snp-phlogeny/data`\n",
    "\n",
    "The gene sequences for the 16 strains are found in a multifasta file called `ompA.fa` in the `gene` directory. These nucleotide sequences have been constructed from sequence data of the 16 strains. We won't cover how the genes were constructed here but will learn more about this in a later tutorial.\n",
    "\n",
    "Take a look at the file containing the gene sequences:  "
   ]
  },
  {
   "cell_type": "code",
   "execution_count": null,
   "metadata": {},
   "outputs": [],
   "source": [
    "cd gene"
   ]
  },
  {
   "cell_type": "code",
   "execution_count": null,
   "metadata": {},
   "outputs": [],
   "source": [
    "cat ompA.fa"
   ]
  },
  {
   "cell_type": "markdown",
   "metadata": {},
   "source": [
    "## Introducing the dataset\n",
    "\n",
    "The dataset used in this section has in part been derived from the following paper:\n",
    "\n",
    "> **The Swedish new variant of Chlamydia trachomatis: genome sequence, morphology, cell tropism and phenotypic characterization**  \n",
    "> Unemo M, Seth-Smith HMB, Cutcliffe LT, Skilton RJ, Barlow D, Goulding D, Persson K, Harris SR, Kelly A, Bjartling C, Fredlund H, Olcén P, Thomson NR, Clarke IN.\n",
    "> _Microbiology 2010. doi: 10.1099/mic.0.036830-0_\n",
    "> PMID: [20093289](https://www.ncbi.nlm.nih.gov/pmc/articles/PMC3541825/)\n",
    "\n",
    "_Chlamydia trachomatis_ is one of the most prevalent human pathogens in the world, causing a variety of infections. It is the leading cause of sexually transmitted infections (STIs), with an estimated 131 million new cases each year. Additionally, it is also the leading cause of preventable infectious blindness with tens of millions of people thought to have active disease.\n",
    "\n",
    "Historically, the most commonly used tool for typing _C. trachomatis_ isolates was serotyping using the MOMP (major outer membrane protein), which is encoded by the *ompA* gene. There are two biovars of C. trachomatis:\n",
    "\n",
    "* the _trachoma_ biovar includes ocular and urogenital strains, which cause the majority of trachoma and STIs, and are characterised by localised infections of the epithelial surface of the conjunctiva or genital mucosa;\n",
    "* the _lymphogranuloma venereum (LGV)_ biovar includes strains which are distinguished by their ability to spread systemically thorough the lymphatic system, causing genital ulceration and bubonic disease.\n",
    "\n",
    "Based on MOMP serotyping, _C. trachomatis_ has been subdivided into between 15 and 19 serotypes: the _trachoma_ biovar includes ocular serotypes A to C and urogenital serotypes D to K, while the _LGV_ biovar includes serotypes L1, L2 (including L2a, b and c) and L3. \n",
    "\n",
    "In 2006, a new variant of _C. trachomatis_, known as NV was reported in Sweden and triggered a European health alert. During this time it became the dominant strain circulating in some European countries and began to spread world wide. The reason for this was that it evaded detection by the widely used PCR-based diagnostic test. During this exercise we will place this New Variant of _C. trachomatis_ (NV) in the context of several other _C.trachomatis_ strains based on the ompA gene."
   ]
  },
  {
   "cell_type": "markdown",
   "metadata": {},
   "source": [
    "## Viewing the alignment in Seaview\n",
    "\n",
    "To view our gene sequences and produce a phylogeny we will use a program called `Seaview`. `Seaview` is a graphical user interface (GUI) that combines a number of the most popular alignment and phylogeny programs. Launch `Seaview`"
   ]
  },
  {
   "cell_type": "code",
   "execution_count": null,
   "metadata": {},
   "outputs": [],
   "source": [
    "seaview &"
   ]
  },
  {
   "cell_type": "markdown",
   "metadata": {},
   "source": [
    "Now load the file `ompA.fa` by selecting ‘File’ and ‘Open’ from the main menu.\n",
    "\n",
    "![Seaview](img/seaview_1.png)\n",
    "\n",
    "![ompA alignment in Seaview](img/seaview_2.png)"
   ]
  },
  {
   "cell_type": "markdown",
   "metadata": {},
   "source": [
    "## Multiple sequence alignment\n",
    "\n",
    "Homology among DNA, RNA, or proteins is typically inferred from their nucleotide or amino acid sequence similarity. Significant similarity is strong evidence that two sequences are related by evolutionary changes from a common ancestral sequence. Alignments of multiple sequences are used to indicate which regions of each sequence are homologous.\n",
    "\n",
    "Therefore before we perform any phylogenetic analysis, we must make sure that the columns in our data represent homologous bases. With gene or protein sequence data, this usually means aligning the nucleotide or amino acid sequences using a multiple alignment program. Length differences of the sequences complicate multiple sequence alignment because these require the insertion of gaps into an alignment to ensure that homologous sites remain aligned. When possible, alignments should be checked by eye.\n",
    "\n",
    "`Seaview` allows alignment using two programs, `clustal` and `muscle`. Generally `muscle` is faster, providing protein alignments that are of similar quality to `clustal`. It is usually better to align genes after translating them into amino acids, so we will do that here."
   ]
  },
  {
   "cell_type": "markdown",
   "metadata": {},
   "source": [
    "On the ‘Props’ menu tick ‘View as proteins’.\n",
    "\n",
    "![View as proteins in Seaview](img/seaview_3.png)"
   ]
  },
  {
   "cell_type": "markdown",
   "metadata": {},
   "source": [
    "To run the alignment, select ‘Align’ then ‘Align all’ from the main menu.\n",
    "\n",
    "![Aign all proteins in Seaview](img/seaview_4.png)\n",
    "\n",
    "When the alignment process is complete, `Seaview` will have inserted gaps into the sequences so that homologous sites (or at least homologous according to the alignment program) are lined up in columns. Look at the alignment, it should now be clearer how the sequences differ from one another.\n",
    "\n",
    "![Protein alignment in Seaview](img/seaview_5.png)"
   ]
  },
  {
   "cell_type": "markdown",
   "metadata": {},
   "source": [
    "Now turn off protein view and you will see that the nucleotides are also now aligned.\n",
    "\n",
    "![Nucleotide alignment in Seaview](img/seaview_6.png)"
   ]
  },
  {
   "cell_type": "markdown",
   "metadata": {},
   "source": [
    "## Phylogeny estimation using PhyML\n",
    "\n",
    "To estimate the phylogeny, we will use a program called `PhyML`, which is included in `Seaview`. `PhyML` uses a maximum likelihood (ML) method to estimate the tree and includes a number of nucleotide substitution models ranging from the very simple (and could be unrealistic) to more complex ones. Evolutionary (or substitution) models are statistical models that describe the substitution and divergence of sequences over time.\n",
    "\n",
    "To create a tree in `Seaview`, select 'Trees' and 'PhyML' from the main menu.\n",
    "\n",
    "![Creating a treee with PhyML](img/phyml.png)"
   ]
  },
  {
   "cell_type": "markdown",
   "metadata": {},
   "source": [
    "Choose the _GTR_ (General Time Reversible) model for substitution rates, set all other parameters as shown below and click `Run`.\n",
    "\n",
    "![Tree Settings](img/tree_settings.png)"
   ]
  },
  {
   "cell_type": "markdown",
   "metadata": {},
   "source": [
    "Once the run has finished, click 'OK' and you should see a phylogenetic tree as shown below. The tree created by `PhyML` includes the topology of tree (i.e., the relationships between sequences) and the branch lengths (i.e., the amount of change occurring in each lineage). Therefore, the tree is drawn as a _phylogram_, in which the length of branches is proportional to the amount of evolutionary change.\n",
    "\n",
    "![Phylogenetic tree of ompA gene with detailed description](img/tree_with_descriptions.png)"
   ]
  },
  {
   "cell_type": "markdown",
   "metadata": {},
   "source": [
    "## Phylogeny estimation with bootstrapping\n",
    "\n",
    "Bootstrapping is a statistical technique to assess the confidence level around each phylogenetic node. The bootstrapping values indicates how many times out of 100, the same branch was observed when repeating the phylogenetic reconstruction on a re-sampled set of the data. Robust relationship should be repeatable, and subsequently observed in a large proportion of randomised data. Therefore, if you get 100 out of 100 times for a particular node, you can be more confident that the observed branch is not due to chance, but likely to be real.\n",
    "\n",
    "To estimate a bootstrapped phylogeny for the _ompA_ data, start by creating a new phylogeny as before and then click on ‘Bootstrap’ in the ‘Branch Support’ box, and enter ‘10’ in the replicates box. The processing of the 10 replicates may take a few minutes, so you could move on while this is running. Ideally you would run more replicates (100 or 1000), but to save time we will only run 10 replicates here.\n",
    "\n",
    "![Bootstrapping option](img/bootstrap.png)\n",
    "\n",
    "Once the search is complete, you can show the bootstrap values on the tree by ticking the __Br support__ box. \n",
    "\n",
    "![Phylogenetic tree with bootstraps](img/tree_with_bootstraps.png)\n",
    "\n",
    "Each node in the tree now has an associated value out of 100, its bootstrap. Can you identify any nodes that are not robust? Unfortunately there is no generally accepted threshold for significant bootstrap robustness, so you must use your judgement.\n",
    "\n",
    "__WARNING!:__ bootstrap proportions are measures of robustness, or repeatability. A high bootstrap value indicates that a given node tends to occur in every analysis. This does not guarantee that the node is correct. For example, if the substitution model is inaccurate, it could produce the wrong answer in every estimation."
   ]
  },
  {
   "cell_type": "markdown",
   "metadata": {},
   "source": [
    "## Phylogeny visualisation\n",
    "\n",
    "In addition to `Seaview` there are many other tools that can be used to visualise phylogenetic trees including `FigTree`, `Microreact` and `iToL`. As a short exercise, let's use `FigTree` to visualise our tree. `FigTree` is more versatile than the tree viewer in `Seaview`, allowing you to colour branches and taxa, redraw the tree in a number of ways and output the results in a large number of graphics formats including `eps` and `pdf`. It is particularly useful for preparing figures for manuscripts.\n",
    "\n",
    "First, export the tree produced by PhyML by choosing the 'File' and Save unrooted tree' from the main menu. The file will be saved in newick format. A newick file is a standard text-based format for representing trees in computer-readable form using (nested) parentheses and commas.\n",
    "\n",
    "Open FigTree by typing ‘figtree’ in the terminal."
   ]
  },
  {
   "cell_type": "code",
   "execution_count": null,
   "metadata": {},
   "outputs": [],
   "source": [
    "figtree &"
   ]
  },
  {
   "cell_type": "markdown",
   "metadata": {},
   "source": [
    "Now open the exported newick tree file using `FigTree`.\n",
    "\n",
    "![Open newick file with FigTree](img/figtree.png)\n",
    "\n",
    "If you have time explore the different functionality available in `FigTree`.\n",
    "\n",
    "![Open newick file with FigTree](img/tree_in_figtree.png)"
   ]
  },
  {
   "cell_type": "markdown",
   "metadata": {},
   "source": [
    "## Exercises\n",
    "\n",
    "1. From the trees that you have produced, which MOMP type would you suggest the new variant (NV) strain belongs to?\n",
    "2. Do the ompA trees agree with the separation of _C. trachomatis_ into trachoma (serotypes A to K) and LGV (L serotypes) biovars?"
   ]
  },
  {
   "cell_type": "markdown",
   "metadata": {},
   "source": [
    "Now move on to the next section: [Constructing phylogeny from whole genome sequence data](snp_phylogeny.ipynb)"
   ]
  }
 ],
 "metadata": {
  "kernelspec": {
   "display_name": "Bash",
   "language": "bash",
   "name": "bash"
  },
  "language_info": {
   "codemirror_mode": "shell",
   "file_extension": ".sh",
   "mimetype": "text/x-sh",
   "name": "bash"
  }
 },
 "nbformat": 4,
 "nbformat_minor": 2
}
