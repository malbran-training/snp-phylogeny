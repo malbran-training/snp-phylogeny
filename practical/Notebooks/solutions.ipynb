{
 "cells": [
  {
   "cell_type": "markdown",
   "metadata": {},
   "source": [
    "# Mapping and Phylogeny\n",
    "\n",
    "## Introduction\n",
    "\n",
    "Phylogenetics is essentially about similarity, and looking at patterns of similarity between taxa to infer their relationships. It has important applications in many fields of genome biology. For example, when annotating a gene in a new genome it is useful for identifying previously-annotated genes in other genomes that share a common ancestry. It is also becoming increasingly common to use phylogeny to trace the evolution and spread of bacterial diseases, and even as an epidemiological tool to help identify disease outbreaks in a clinical setting. Further analysis of genome sequences to examine recombination, molecular adaptation and the evolution of gene function, all benefit from phylogeny.\n",
    "\n",
    "With sequence data can use multiple approaches to infer phylogenetic relationships between samples. All involve identifying variation and ca be at fifferent levels of resolution.\n",
    "\n",
    "* a single gene\n",
    "* MLST\n",
    "* cgMLST\n",
    "* core/accessory pangenome\n",
    "* wg\n",
    "\n",
    "Sentence about resolution, and that the two main approaches are pangenome and wg. In this tutorial we will focus on wg approach.\n",
    "\n",
    "For reference mapping, whether we are dealing with different bacterial isolates, with viral populations in a patient, or even with genomes of different human individuals, the principles are essentially the same. Sequence reads are matched to a reference genome and SNPs and INDELs are identified. These variants can be used to distinguish closely related populations or individual organisms and may thus learn about genetic differences that may cause drug resistance or increased virulence in pathogens, or changed susceptibility to disease in humans. One important prerequisite for the mapping of sequence data to work is that the reference and the re-sequenced subject have the same genome architecture.\n",
    "\n",
    "## Learning outcomes\n",
    "On completion of the tutorial, you can expect to be able to:\n",
    "\n",
    "* List the different approaches to constructing a phylogeny for WGS data\n",
    "* Map sequence reads to a reference genome and identify variants in your sample\n",
    "* Create a sequence alignment of your samples\n",
    "* Identify and remove recombination with Gubbins\n",
    "* Draw a phylogenetic tree\n",
    "* Visualise phylogenetic tree in context of sample metadata\n",
    "\n",
    "## Tutorial sections\n",
    "This tutorial comprises the following sections:   \n",
    " 1. [Data formats for NGS](formats.ipynb) \n",
    " 2. [Converting between formats](conversion.ipynb)\n",
    " 3. [Data formats for NGS](formats.ipynb) \n",
    " 4. [Converting between formats](conversion.ipynb)\n",
    " 5. [Converting between formats](conversion.ipynb)\n",
    "  \n",
    "## Authors and License\n",
    "This tutorial was written by [Jacqui Keane](https://github.com/jacquikeane).\n",
    "\n",
    "The content is licensed under a [Creative Commons Attribution 4.0 International License (CC-By 4.0)](https://creativecommons.org/licenses/by/4.0/).\n",
    "\n",
    "## Running the commands in this tutorial\n",
    "You can follow this tutorial by typing all the commands you see in a terminal window on your computer. Remember, the terminal window is similar to the \"Command Prompt\" window on MS Windows systems, which allows the user to type DOS commands to manage files.\n",
    "\n",
    "To get started, open a terminal window and type the command below followed by the `Enter` key:"
   ]
  },
  {
   "cell_type": "code",
   "execution_count": null,
   "metadata": {},
   "outputs": [],
   "source": [
    "cd ~/course_data/snp-phylogeny/data"
   ]
  },
  {
   "cell_type": "markdown",
   "metadata": {},
   "source": [
    "## Prerequisites\n",
    "This tutorial assumes that you have the following software and their dependencies installed on your computer. The software used in this tutorial may be updated from time to time so, we have also given you the version which was used when writing this tutorial.\n",
    "\n",
    "\n",
    "| Package name | Link for download/installation instructions                          | Version |\n",
    "| :----------: | :------------------------------------------------------------------: |:------: |\n",
    "| samtools     | https://github.com/samtools/samtools                                 | 1.17    |\n",
    "| seaview      | https://github.com/samtools/samtools                                 | 1.17    |\n",
    "| bcftools     | https://github.com/samtools/bcftools                                 | 1.17    |\n",
    "| bwa          | https://broadinstitute.github.io/picard/                             | 3.0.0   |\n",
    "| fastp        | https://broadinstitute.github.io/picard/                             | 3.0.0   |\n",
    "| snp-sites    | https://broadinstitute.github.io/picard/                             | 3.0.0   |\n",
    "| gubbins      | https://broadinstitute.github.io/picard/                             | 3.0.0   |\n",
    "| iqtree       | https://broadinstitute.github.io/picard/                             | 3.0.0   |\n",
    "| FigTree      | https://broadinstitute.github.io/picard/                             | 3.0.0   |\n",
    "| Phandango    | https://broadinstitute.github.io/picard/                             | 3.0.0   |\n",
    "| Microreact   | https://broadinstitute.github.io/picard/                             | 3.0.0   |"
   ]
  },
  {
   "cell_type": "markdown",
   "metadata": {},
   "source": [
    "The easiest way to install the required software is using `conda`, a software package manager. These software have already been installed on the computer for you. To activate them type:"
   ]
  },
  {
   "cell_type": "code",
   "execution_count": null,
   "metadata": {},
   "outputs": [],
   "source": [
    "conda activate snp-phylogeny"
   ]
  },
  {
   "cell_type": "markdown",
   "metadata": {},
   "source": [
    "After the software is activated type the following commands:"
   ]
  },
  {
   "cell_type": "code",
   "execution_count": null,
   "metadata": {},
   "outputs": [],
   "source": [
    "samtools --help"
   ]
  },
  {
   "cell_type": "code",
   "execution_count": null,
   "metadata": {},
   "outputs": [],
   "source": [
    "bcftools --help"
   ]
  },
  {
   "cell_type": "code",
   "execution_count": null,
   "metadata": {},
   "outputs": [],
   "source": [
    "bwa"
   ]
  },
  {
   "cell_type": "code",
   "execution_count": null,
   "metadata": {},
   "outputs": [],
   "source": [
    "fastp"
   ]
  },
  {
   "cell_type": "code",
   "execution_count": null,
   "metadata": {},
   "outputs": [],
   "source": [
    "snp-sites"
   ]
  },
  {
   "cell_type": "code",
   "execution_count": null,
   "metadata": {},
   "outputs": [],
   "source": [
    "gubbins"
   ]
  },
  {
   "cell_type": "code",
   "execution_count": null,
   "metadata": {},
   "outputs": [],
   "source": [
    "iqtree"
   ]
  },
  {
   "cell_type": "code",
   "execution_count": null,
   "metadata": {},
   "outputs": [],
   "source": [
    "FigTree"
   ]
  },
  {
   "cell_type": "markdown",
   "metadata": {},
   "source": [
    "This should return the help message for these tools.\n",
    "\n",
    "To get started with the tutorial, go to the first section: [Introduction to phylogeny](phylogeny.ipynb)"
   ]
  }
 ],
 "metadata": {
  "kernelspec": {
   "display_name": "Bash",
   "language": "bash",
   "name": "bash"
  },
  "language_info": {
   "codemirror_mode": "shell",
   "file_extension": ".sh",
   "mimetype": "text/x-sh",
   "name": "bash"
  }
 },
 "nbformat": 4,
 "nbformat_minor": 2
}
